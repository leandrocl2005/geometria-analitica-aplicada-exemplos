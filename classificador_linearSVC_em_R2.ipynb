{
  "nbformat": 4,
  "nbformat_minor": 0,
  "metadata": {
    "colab": {
      "name": "introducao_ao_classificador_linearSVC.ipynb",
      "provenance": [],
      "collapsed_sections": []
    },
    "kernelspec": {
      "name": "python3",
      "display_name": "Python 3"
    },
    "language_info": {
      "name": "python"
    }
  },
  "cells": [
    {
      "cell_type": "markdown",
      "source": [
        "# Conhecendo LinearSVC (Linear Support Vector Classification)"
      ],
      "metadata": {
        "id": "gRj8uIUrQ6p_"
      }
    },
    {
      "cell_type": "markdown",
      "source": [
        "Um classificador é uma função que decide sobre qual classe um objeto pertence. Por exemplo, podemos decidir se um indivíduo é maior de idade ou menor de idade utilizando a função:"
      ],
      "metadata": {
        "id": "3BKrX-I_REf5"
      }
    },
    {
      "cell_type": "code",
      "source": [
        "def maior_ou_menor(idade):\n",
        "  if idade >= 18:\n",
        "    return \"maior\"\n",
        "  else:\n",
        "    return \"menor\"\n",
        "\n",
        "print(maior_ou_menor(15))\n",
        "print(maior_ou_menor(17))\n",
        "print(maior_ou_menor(22))"
      ],
      "metadata": {
        "colab": {
          "base_uri": "https://localhost:8080/"
        },
        "id": "3RPH_Sb0RRj5",
        "outputId": "43c689ab-8b17-4292-a07e-30f2f77ae22b"
      },
      "execution_count": 2,
      "outputs": [
        {
          "output_type": "stream",
          "name": "stdout",
          "text": [
            "menor\n",
            "menor\n",
            "maior\n"
          ]
        }
      ]
    },
    {
      "cell_type": "markdown",
      "source": [
        "O problema é quando a regra não é tão clara. Vejamos outro exemplo:"
      ],
      "metadata": {
        "id": "Mx--c9muRf4z"
      }
    },
    {
      "cell_type": "code",
      "source": [
        "import pandas as pd\n",
        "from sklearn.datasets import load_iris\n",
        "import matplotlib.pyplot as plt\n",
        "\n",
        "iris = load_iris()\n",
        "data = iris.data[:100,:2]\n",
        "plt.scatter(data[:50,0], data[:50,1], color='g', label='setosa')\n",
        "plt.scatter(data[50:,0], data[50:,1], color='r', label='versicolor')\n",
        "plt.title(\"Espécies de Iris\")\n",
        "plt.xlabel(\"sepal length (cm)\")\n",
        "plt.ylabel(\"sepal width (cm)\")\n",
        "plt.legend()\n",
        "plt.show()"
      ],
      "metadata": {
        "colab": {
          "base_uri": "https://localhost:8080/",
          "height": 295
        },
        "id": "0BFDP2bGfKOt",
        "outputId": "cf8e8983-273a-4083-98c3-96da02aeeaff"
      },
      "execution_count": 10,
      "outputs": [
        {
          "output_type": "display_data",
          "data": {
            "text/plain": [
              "<Figure size 432x288 with 1 Axes>"
            ],
            "image/png": "[encoded data removed]"
          },
          "metadata": {
            "needs_background": "light"
          }
        }
      ]
    },
    {
      "cell_type": "markdown",
      "source": [
        "Nesse exemplo, temos que classificar cada planta em setosa ou versicolor sabendo o comprimento e a largura de suas pétalas. A ideia é encontrar a equação de uma reta que separa as duas classes. Para isso utilizaremos um algoritmo chamado LinearSVC!"
      ],
      "metadata": {
        "id": "yFgI7Szxgsfj"
      }
    },
    {
      "cell_type": "markdown",
      "source": [
        "# Passo 1: Carregar os dados"
      ],
      "metadata": {
        "id": "rWHhllxphDSr"
      }
    },
    {
      "cell_type": "code",
      "source": [
        "import pandas as pd\n",
        "\n",
        "# escolhi os dados das flores da espécie iris\n",
        "dados = pd.read_csv(\n",
        "    'https://archive.ics.uci.edu/ml/machine-learning-databases/iris/bezdekIris.data', header=None)\n",
        "dados.columns = ['sepal_length', 'sepal_width', 'petal_length', 'petal_width', 'class']\n",
        "\n",
        "# veja as 3 primeiras linhas\n",
        "dados.head(3)"
      ],
      "metadata": {
        "colab": {
          "base_uri": "https://localhost:8080/",
          "height": 143
        },
        "id": "KAcVPuDpiAzq",
        "outputId": "837a7356-8bcc-424b-dbc7-1ed51c317c4b"
      },
      "execution_count": 16,
      "outputs": [
        {
          "output_type": "execute_result",
          "data": {
            "text/plain": [
              "   sepal_length  sepal_width  petal_length  petal_width        class\n",
              "0           5.1          3.5           1.4          0.2  Iris-setosa\n",
              "1           4.9          3.0           1.4          0.2  Iris-setosa\n",
              "2           4.7          3.2           1.3          0.2  Iris-setosa"
            ],
            "text/html": [
              "\n",
              "  <div id=\"df-3301acb9-60e7-49a9-88d8-f288a9b6a358\">\n",
              "    <div class=\"colab-df-container\">\n",
              "      <div>\n",
              "<style scoped>\n",
              "    .dataframe tbody tr th:only-of-type {\n",
              "        vertical-align: middle;\n",
              "    }\n",
              "\n",
              "    .dataframe tbody tr th {\n",
              "        vertical-align: top;\n",
              "    }\n",
              "\n",
              "    .dataframe thead th {\n",
              "        text-align: right;\n",
              "    }\n",
              "</style>\n",
              "<table border=\"1\" class=\"dataframe\">\n",
              "  <thead>\n",
              "    <tr style=\"text-align: right;\">\n",
              "      <th></th>\n",
              "      <th>sepal_length</th>\n",
              "      <th>sepal_width</th>\n",
              "      <th>petal_length</th>\n",
              "      <th>petal_width</th>\n",
              "      <th>class</th>\n",
              "    </tr>\n",
              "  </thead>\n",
              "  <tbody>\n",
              "    <tr>\n",
              "      <th>0</th>\n",
              "      <td>5.1</td>\n",
              "      <td>3.5</td>\n",
              "      <td>1.4</td>\n",
              "      <td>0.2</td>\n",
              "      <td>Iris-setosa</td>\n",
              "    </tr>\n",
              "    <tr>\n",
              "      <th>1</th>\n",
              "      <td>4.9</td>\n",
              "      <td>3.0</td>\n",
              "      <td>1.4</td>\n",
              "      <td>0.2</td>\n",
              "      <td>Iris-setosa</td>\n",
              "    </tr>\n",
              "    <tr>\n",
              "      <th>2</th>\n",
              "      <td>4.7</td>\n",
              "      <td>3.2</td>\n",
              "      <td>1.3</td>\n",
              "      <td>0.2</td>\n",
              "      <td>Iris-setosa</td>\n",
              "    </tr>\n",
              "  </tbody>\n",
              "</table>\n",
              "</div>\n",
              "      <button class=\"colab-df-convert\" onclick=\"convertToInteractive('df-3301acb9-60e7-49a9-88d8-f288a9b6a358')\"\n",
              "              title=\"Convert this dataframe to an interactive table.\"\n",
              "              style=\"display:none;\">\n",
              "        \n",
              "  <svg xmlns=\"http://www.w3.org/2000/svg\" height=\"24px\"viewBox=\"0 0 24 24\"\n",
              "       width=\"24px\">\n",
              "    <path d=\"M0 0h24v24H0V0z\" fill=\"none\"/>\n",
              "    <path d=\"M18.56 5.44l.94 2.06.94-2.06 2.06-.94-2.06-.94-.94-2.06-.94 2.06-2.06.94zm-11 1L8.5 8.5l.94-2.06 2.06-.94-2.06-.94L8.5 2.5l-.94 2.06-2.06.94zm10 10l.94 2.06.94-2.06 2.06-.94-2.06-.94-.94-2.06-.94 2.06-2.06.94z\"/><path d=\"M17.41 7.96l-1.37-1.37c-.4-.4-.92-.59-1.43-.59-.52 0-1.04.2-1.43.59L10.3 9.45l-7.72 7.72c-.78.78-.78 2.05 0 2.83L4 21.41c.39.39.9.59 1.41.59.51 0 1.02-.2 1.41-.59l7.78-7.78 2.81-2.81c.8-.78.8-2.07 0-2.86zM5.41 20L4 18.59l7.72-7.72 1.47 1.35L5.41 20z\"/>\n",
              "  </svg>\n",
              "      </button>\n",
              "      \n",
              "  <style>\n",
              "    .colab-df-container {\n",
              "      display:flex;\n",
              "      flex-wrap:wrap;\n",
              "      gap: 12px;\n",
              "    }\n",
              "\n",
              "    .colab-df-convert {\n",
              "      background-color: #E8F0FE;\n",
              "      border: none;\n",
              "      border-radius: 50%;\n",
              "      cursor: pointer;\n",
              "      display: none;\n",
              "      fill: #1967D2;\n",
              "      height: 32px;\n",
              "      padding: 0 0 0 0;\n",
              "      width: 32px;\n",
              "    }\n",
              "\n",
              "    .colab-df-convert:hover {\n",
              "      background-color: #E2EBFA;\n",
              "      box-shadow: 0px 1px 2px rgba(60, 64, 67, 0.3), 0px 1px 3px 1px rgba(60, 64, 67, 0.15);\n",
              "      fill: #174EA6;\n",
              "    }\n",
              "\n",
              "    [theme=dark] .colab-df-convert {\n",
              "      background-color: #3B4455;\n",
              "      fill: #D2E3FC;\n",
              "    }\n",
              "\n",
              "    [theme=dark] .colab-df-convert:hover {\n",
              "      background-color: #434B5C;\n",
              "      box-shadow: 0px 1px 3px 1px rgba(0, 0, 0, 0.15);\n",
              "      filter: drop-shadow(0px 1px 2px rgba(0, 0, 0, 0.3));\n",
              "      fill: #FFFFFF;\n",
              "    }\n",
              "  </style>\n",
              "\n",
              "      <script>\n",
              "        const buttonEl =\n",
              "          document.querySelector('#df-3301acb9-60e7-49a9-88d8-f288a9b6a358 button.colab-df-convert');\n",
              "        buttonEl.style.display =\n",
              "          google.colab.kernel.accessAllowed ? 'block' : 'none';\n",
              "\n",
              "        async function convertToInteractive(key) {\n",
              "          const element = document.querySelector('#df-3301acb9-60e7-49a9-88d8-f288a9b6a358');\n",
              "          const dataTable =\n",
              "            await google.colab.kernel.invokeFunction('convertToInteractive',\n",
              "                                                     [key], {});\n",
              "          if (!dataTable) return;\n",
              "\n",
              "          const docLinkHtml = 'Like what you see? Visit the ' +\n",
              "            '<a target=\"_blank\" href=https://colab.research.google.com/notebooks/data_table.ipynb>data table notebook</a>'\n",
              "            + ' to learn more about interactive tables.';\n",
              "          element.innerHTML = '';\n",
              "          dataTable['output_type'] = 'display_data';\n",
              "          await google.colab.output.renderOutput(dataTable, element);\n",
              "          const docLink = document.createElement('div');\n",
              "          docLink.innerHTML = docLinkHtml;\n",
              "          element.appendChild(docLink);\n",
              "        }\n",
              "      </script>\n",
              "    </div>\n",
              "  </div>\n",
              "  "
            ]
          },
          "metadata": {},
          "execution_count": 16
        }
      ]
    },
    {
      "cell_type": "markdown",
      "source": [
        "## Passo 2: Escolha duas colunas numéricas e uma categórica "
      ],
      "metadata": {
        "id": "L2B9rcg_iKWk"
      }
    },
    {
      "cell_type": "code",
      "source": [
        "# sepal_length e sepal_width são numéricas, class é categórica\n",
        "dados = dados[['sepal_length', 'sepal_width', 'class']]"
      ],
      "metadata": {
        "id": "_4YszpdFiTZE"
      },
      "execution_count": 54,
      "outputs": []
    },
    {
      "cell_type": "markdown",
      "source": [
        "## Passo 3: Filtre os dados para ficar com apenas duas categorias"
      ],
      "metadata": {
        "id": "D_Xxvc2Ci2sG"
      }
    },
    {
      "cell_type": "code",
      "source": [
        "# ficaremos apenas com iris-setosa e iris-versicolor\n",
        "dados = dados[dados['class'] != 'Iris-virginica']"
      ],
      "metadata": {
        "id": "cj0EmCS9i9Y1"
      },
      "execution_count": 56,
      "outputs": []
    },
    {
      "cell_type": "markdown",
      "source": [
        "## Passo 4: Ilustre sua escolha com um gráfico"
      ],
      "metadata": {
        "id": "ziS6yDIgiZp7"
      }
    },
    {
      "cell_type": "code",
      "source": [
        "import matplotlib.pyplot as plt\n",
        "import seaborn as sns\n",
        "\n",
        "sns.scatterplot(\n",
        "    data=dados, \n",
        "    x=\"sepal_length\", \n",
        "    y=\"sepal_width\", \n",
        "    hue=\"class\")\n",
        "plt.show()"
      ],
      "metadata": {
        "colab": {
          "base_uri": "https://localhost:8080/",
          "height": 283
        },
        "id": "KnAMuKC9ifCb",
        "outputId": "1ca6ac03-88a5-4108-a9d2-26d9fb43d360"
      },
      "execution_count": 22,
      "outputs": [
        {
          "output_type": "display_data",
          "data": {
            "text/plain": [
              "<Figure size 432x288 with 1 Axes>"
            ],
            "image/png": "[encoded data removed]"
          },
          "metadata": {
            "needs_background": "light"
          }
        }
      ]
    },
    {
      "cell_type": "markdown",
      "source": [
        "## Passo 5: Use o LinearSVC para encontrar os coeficientes da reta"
      ],
      "metadata": {
        "id": "FeGkiTZMiyZE"
      }
    },
    {
      "cell_type": "code",
      "source": [
        "from sklearn.svm import LinearSVC\n",
        "\n",
        "model = LinearSVC()\n",
        "model.fit(dados.drop('class', axis=1), dados['class'])\n",
        "\n",
        "a, b = model.coef_[0]\n",
        "d = model.intercept_[0]\n",
        "\n",
        "print('a:', a)\n",
        "print('b:', b)\n",
        "print('d:', d)"
      ],
      "metadata": {
        "colab": {
          "base_uri": "https://localhost:8080/"
        },
        "id": "GVGMqKBrjUj0",
        "outputId": "ca391645-d258-4066-a03a-f677c996636f"
      },
      "execution_count": 27,
      "outputs": [
        {
          "output_type": "stream",
          "name": "stdout",
          "text": [
            "a: 1.4591278785464814\n",
            "b: -2.190375468208897\n",
            "d: -1.0898839703920788\n"
          ]
        }
      ]
    },
    {
      "cell_type": "markdown",
      "source": [
        "## Passo 6: Desenhe a reta"
      ],
      "metadata": {
        "id": "Q48L2T2WkGU8"
      }
    },
    {
      "cell_type": "markdown",
      "source": [
        "Os coeficientes acima dizem que a reta é do tipo\n",
        "\n",
        "$$ax + by + d = 0$$\n",
        "\n",
        "ou\n",
        "\n",
        "$$ y = -\\frac{a}{b} x - \\frac{d}{b}$$"
      ],
      "metadata": {
        "id": "F9dCPr76kY9M"
      }
    },
    {
      "cell_type": "code",
      "source": [
        "def y(x):\n",
        "  return -a/b * x - d / b"
      ],
      "metadata": {
        "id": "xuhU1blLlEK3"
      },
      "execution_count": 28,
      "outputs": []
    },
    {
      "cell_type": "markdown",
      "source": [
        "Agora podemos fazer o gráfico da reta:"
      ],
      "metadata": {
        "id": "8QifYSwWlJqG"
      }
    },
    {
      "cell_type": "code",
      "source": [
        "import matplotlib.pyplot as plt\n",
        "import seaborn as sns\n",
        "\n",
        "sns.scatterplot(\n",
        "    data=dados, \n",
        "    x=\"sepal_length\", \n",
        "    y=\"sepal_width\", \n",
        "    hue=\"class\")\n",
        "x_min = dados['sepal_length'].min() - 1\n",
        "x_max = dados['sepal_length'].max() + 1\n",
        "plt.plot([x_min, x_max], [y(x_min), y(x_max)])\n",
        "plt.show()"
      ],
      "metadata": {
        "colab": {
          "base_uri": "https://localhost:8080/",
          "height": 280
        },
        "id": "z39mO0bXksC8",
        "outputId": "88bc3b76-b087-49c8-b121-1f0382e90329"
      },
      "execution_count": 35,
      "outputs": [
        {
          "output_type": "display_data",
          "data": {
            "text/plain": [
              "<Figure size 432x288 with 1 Axes>"
            ],
            "image/png": "[encoded data removed]"
          },
          "metadata": {
            "needs_background": "light"
          }
        }
      ]
    },
    {
      "cell_type": "markdown",
      "source": [
        "Observe que erramos 1!"
      ],
      "metadata": {
        "id": "yPt44s9SlPfk"
      }
    },
    {
      "cell_type": "markdown",
      "source": [
        "## Passo 7: Exiba os erros através da matriz de confusão"
      ],
      "metadata": {
        "id": "nmHv1ZfUlahs"
      }
    },
    {
      "cell_type": "code",
      "source": [
        "from sklearn.metrics import ConfusionMatrixDisplay\n",
        "\n",
        "disp = ConfusionMatrixDisplay.from_estimator(\n",
        "    model,\n",
        "    dados.drop('class', axis=1),\n",
        "    dados['class'],\n",
        "    display_labels=['iris-setosa', 'iris-versicolor'],\n",
        "    cmap=plt.cm.Blues,\n",
        ")\n",
        "disp.ax_.set_title(\"Matrix de confusão\")\n",
        "print(disp.confusion_matrix)"
      ],
      "metadata": {
        "colab": {
          "base_uri": "https://localhost:8080/",
          "height": 330
        },
        "id": "Fzfz-fgelyCM",
        "outputId": "08392f92-338d-4bf0-9ca0-ac76e626938d"
      },
      "execution_count": 44,
      "outputs": [
        {
          "output_type": "stream",
          "name": "stdout",
          "text": [
            "[[49  1]\n",
            " [ 0 50]]\n"
          ]
        },
        {
          "output_type": "display_data",
          "data": {
            "text/plain": [
              "<Figure size 432x288 with 2 Axes>"
            ],
            "image/png": "[encoded data removed]"
          },
          "metadata": {
            "needs_background": "light"
          }
        }
      ]
    },
    {
      "cell_type": "markdown",
      "source": [
        "A matriz acima diz que uma iris setosa foi classificada incorretamente como iris versicolor."
      ],
      "metadata": {
        "id": "RHPb6bfMmoSN"
      }
    },
    {
      "cell_type": "markdown",
      "source": [
        "## Passo 8: Escreva explicitamente a função que define o seu classificador"
      ],
      "metadata": {
        "id": "3FY5KkhJnZl8"
      }
    },
    {
      "cell_type": "code",
      "source": [
        "def iris_setosa_ou_versicolor(sepal_length, sepal_width):\n",
        "  if a * sepal_length + b * sepal_width + d >= 0:\n",
        "    return 'iris-versicolor'\n",
        "  else:\n",
        "    return 'iris-setosa'\n",
        "\n",
        "print(iris_setosa_ou_versicolor(6,4))\n",
        "print(iris_setosa_ou_versicolor(7,2))\n",
        "print(iris_setosa_ou_versicolor(4,3))"
      ],
      "metadata": {
        "colab": {
          "base_uri": "https://localhost:8080/"
        },
        "id": "8m-rNJ9en3EE",
        "outputId": "bcd4c32b-bfe2-4f05-96f3-447df41a4a2a"
      },
      "execution_count": 46,
      "outputs": [
        {
          "output_type": "stream",
          "name": "stdout",
          "text": [
            "iris-setosa\n",
            "iris-versicolor\n",
            "iris-setosa\n"
          ]
        }
      ]
    },
    {
      "cell_type": "markdown",
      "source": [
        "## Passo 9: Faça um gráfico mostrando onde estão os novos pontos classificados"
      ],
      "metadata": {
        "id": "-L6ajlGCpHrn"
      }
    },
    {
      "cell_type": "code",
      "source": [
        "import matplotlib.pyplot as plt\n",
        "import seaborn as sns\n",
        "\n",
        "sns.scatterplot(\n",
        "    data=dados, \n",
        "    x=\"sepal_length\", \n",
        "    y=\"sepal_width\", \n",
        "    hue=\"class\")\n",
        "x_min = dados['sepal_length'].min() - 1\n",
        "x_max = dados['sepal_length'].max() + 1\n",
        "plt.plot([x_min, x_max], [y(x_min), y(x_max)])\n",
        "plt.scatter([6,7,4],[4,2,3], color='red', s=180, marker='*')\n",
        "plt.show()"
      ],
      "metadata": {
        "colab": {
          "base_uri": "https://localhost:8080/",
          "height": 280
        },
        "id": "Jz07QhrQoWEF",
        "outputId": "a68bb4d7-f10c-4d19-a69e-42f6259b08ba"
      },
      "execution_count": 53,
      "outputs": [
        {
          "output_type": "display_data",
          "data": {
            "text/plain": [
              "<Figure size 432x288 with 1 Axes>"
            ],
            "image/png": "[encoded data removed]"
          },
          "metadata": {
            "needs_background": "light"
          }
        }
      ]
    },
    {
      "cell_type": "code",
      "source": [
        ""
      ],
      "metadata": {
        "id": "SC9RkAS5otOs"
      },
      "execution_count": null,
      "outputs": []
    }
  ]
}
